{
 "cells": [
  {
   "cell_type": "code",
   "execution_count": 8,
   "metadata": {
    "collapsed": true
   },
   "outputs": [],
   "source": [
    "import numpy as np\n",
    "import matplotlib.pyplot as plt\n",
    "from tqdm import tqdm"
   ]
  },
  {
   "cell_type": "code",
   "execution_count": 9,
   "metadata": {
    "collapsed": true
   },
   "outputs": [],
   "source": [
    "##### AUCTION SETUP #####\n",
    "\n",
    "# number of players\n",
    "n_players = 2\n",
    "\n",
    "# number of possible states\n",
    "n_states = 5\n",
    "\n",
    "# list of possible states: max value a bidder is willing to pay\n",
    "states = np.arange(1, n_states+1)\n",
    "\n",
    "# number of possible actions\n",
    "n_actions = 4\n",
    "\n",
    "# list of possible actions: % of max value a bidder is willing to pay [0;1]\n",
    "actions = np.arange(1/n_actions,1.001,1/n_actions)"
   ]
  },
  {
   "cell_type": "code",
   "execution_count": 10,
   "metadata": {
    "collapsed": true
   },
   "outputs": [],
   "source": [
    "##### ALGORITHM SETUP #####\n",
    "\n",
    "# initialize Q with zeros\n",
    "Q = np.zeros((n_states,n_actions))\n",
    "\n",
    "# initialize rewards with zeros\n",
    "R = np.zeros((n_states,n_actions))\n",
    "\n",
    "# Matrix that stores number of times a combination of state and action was used\n",
    "N = np.zeros((n_states,n_actions))\n",
    "\n",
    "# Resulting score for 100 episodes\n",
    "score = 0\n",
    "\n",
    "# Number of iterations\n",
    "n_iter = 500000"
   ]
  },
  {
   "cell_type": "code",
   "execution_count": 11,
   "metadata": {
    "collapsed": true
   },
   "outputs": [],
   "source": [
    "# Choose the next move\n",
    "def choose_move(state, epsilon):\n",
    "    if np.random.rand() > epsilon:\n",
    "        action = np.argmax(Q[state,:])\n",
    "    else:\n",
    "        action = np.random.choice(n_actions)\n",
    "    return action\n",
    "\n",
    "\n",
    "# Record the episode in the form of a sequence of (s,a,r)\n",
    "def run_episode(epsilon):\n",
    "    \n",
    "    episode = []\n",
    "    episode_bids = []\n",
    "    \n",
    "    for player in range(n_players):\n",
    "        \n",
    "        # state of the player\n",
    "        state_index = np.random.choice(n_states)\n",
    "        state_value = states[state_index]\n",
    "        # print(\"Player \",player,\" state is: \",state_value,sep='')\n",
    "    \n",
    "        # actions of the player\n",
    "        action_index = choose_move(state_index, epsilon)\n",
    "        action_value = actions[action_index]\n",
    "        # print(\"Player \",player,\" action is: \",action_value,sep='')\n",
    "    \n",
    "        # bid of the player\n",
    "        bid = state_value*action_value\n",
    "        # print(\"Player \",player,\" bid is: \",bid,sep='')\n",
    "        \n",
    "        # record the (s,a,r), though no reward yet\n",
    "        episode.append([state_index, action_index, 0])\n",
    "        \n",
    "        # record the bid\n",
    "        episode_bids.append((bid))\n",
    "        \n",
    "\n",
    "    # the highest bid\n",
    "    bid_max = max(episode_bids)\n",
    "    \n",
    "    # bidders that offered the highest bid\n",
    "    winners_list = [i for i, x in enumerate(episode_bids) if x == bid_max]\n",
    "    \n",
    "    # select the winner\n",
    "    winner_index = np.random.choice(winners_list)\n",
    "    \n",
    "    # update the reward of a winner\n",
    "    episode[winner_index][2] = states[episode[winner_index][0]] - bid_max\n",
    "    \n",
    "        \n",
    "    return episode"
   ]
  },
  {
   "cell_type": "code",
   "execution_count": 12,
   "metadata": {},
   "outputs": [
    {
     "name": "stderr",
     "output_type": "stream",
     "text": [
      " 20%|██████████████▎                                                         | 99090/500000 [00:07<00:29, 13520.42it/s]"
     ]
    },
    {
     "name": "stdout",
     "output_type": "stream",
     "text": [
      "Score:  1.71\n"
     ]
    },
    {
     "name": "stderr",
     "output_type": "stream",
     "text": [
      " 40%|████████████████████████████▎                                          | 199098/500000 [00:14<00:22, 13583.05it/s]"
     ]
    },
    {
     "name": "stdout",
     "output_type": "stream",
     "text": [
      "Score:  1.735\n"
     ]
    },
    {
     "name": "stderr",
     "output_type": "stream",
     "text": [
      " 60%|██████████████████████████████████████████▌                            | 299469/500000 [00:21<00:14, 13620.43it/s]"
     ]
    },
    {
     "name": "stdout",
     "output_type": "stream",
     "text": [
      "Score:  1.85\n"
     ]
    },
    {
     "name": "stderr",
     "output_type": "stream",
     "text": [
      " 80%|████████████████████████████████████████████████████████▊              | 399920/500000 [00:29<00:07, 13540.79it/s]"
     ]
    },
    {
     "name": "stdout",
     "output_type": "stream",
     "text": [
      "Score:  1.885\n"
     ]
    },
    {
     "name": "stderr",
     "output_type": "stream",
     "text": [
      "100%|██████████████████████████████████████████████████████████████████████▉| 499149/500000 [00:36<00:00, 13534.77it/s]"
     ]
    },
    {
     "name": "stdout",
     "output_type": "stream",
     "text": [
      "Score:  1.8575\n"
     ]
    },
    {
     "name": "stderr",
     "output_type": "stream",
     "text": [
      "100%|███████████████████████████████████████████████████████████████████████| 500000/500000 [00:36<00:00, 13534.92it/s]\n"
     ]
    }
   ],
   "source": [
    "##### RUN THE SIMULATION #####\n",
    "\n",
    "for iteration in tqdm(range(n_iter)):\n",
    "    \n",
    "    # run the episode\n",
    "    episode = run_episode(epsilon=10000/(iteration+1))\n",
    "    \n",
    "    # award equals to\n",
    "    ep_reward = np.sum(episode, axis=0)[2]\n",
    "    \n",
    "    # update score\n",
    "    score += ep_reward\n",
    "    \n",
    "    # choose (s,a) pairs from the episode\n",
    "    sa_in_episode = set([(x[0],x[1]) for x in episode])\n",
    "    \n",
    "    # update Reward and Q matrices for new values of (s,a) we received from the episode\n",
    "    for s,a in sa_in_episode:\n",
    "        \n",
    "        # select subset of episode, where (s,a) was played\n",
    "        s_a_episode = []\n",
    "        for result in episode:\n",
    "            if result[0]==s and result[1]==a:\n",
    "                s_a_episode.append(result)\n",
    "        \n",
    "        \n",
    "        # average award from playing (s,a) per episode\n",
    "        G = np.sum(s_a_episode, axis=0)[2] / len(s_a_episode)\n",
    "        \n",
    "        # Update reward matrix\n",
    "        R[s,a] += G\n",
    "        \n",
    "        # Update matrix with the total number of times (s,a) was used\n",
    "        N[s,a] += 1\n",
    "        \n",
    "        # Update Q matrix\n",
    "        Q[s,a] = R[s,a] / N[s,a]\n",
    "        \n",
    "    # print score after 100,000 iterations    \n",
    "    if (iteration+1)%100000 == 0: print(\"Score: \", score/100)\n",
    "    \n",
    "    # nulify the score\n",
    "    if iteration%100 == 0: score = 0 "
   ]
  },
  {
   "cell_type": "code",
   "execution_count": 13,
   "metadata": {
    "scrolled": true
   },
   "outputs": [
    {
     "name": "stdout",
     "output_type": "stream",
     "text": [
      "The resulting Q matrix is:\n",
      "[[ 0.    0.03  0.03  0.  ]\n",
      " [ 0.13  0.28  0.25  0.  ]\n",
      " [ 0.42  0.75  0.56  0.  ]\n",
      " [ 0.92  1.42  0.92  0.  ]\n",
      " [ 1.51  2.32  1.19  0.  ]]\n"
     ]
    },
    {
     "data": {
      "image/png": "[encoded data removed]",
      "text/plain": [
       "<matplotlib.figure.Figure at 0x1de0aa61a90>"
      ]
     },
     "metadata": {},
     "output_type": "display_data"
    }
   ],
   "source": [
    "print('The resulting Q matrix is:')\n",
    "print(np.round(Q,2))\n",
    "plt.imshow(Q/np.sum(Q, axis=1, keepdims=True),cmap='binary', interpolation='none')\n",
    "plt.show()"
   ]
  },
  {
   "cell_type": "code",
   "execution_count": 14,
   "metadata": {
    "scrolled": true
   },
   "outputs": [
    {
     "name": "stdout",
     "output_type": "stream",
     "text": [
      "The best estimated strategy is:\n",
      "1 -> 50.0 %\n",
      "2 -> 50.0 %\n",
      "3 -> 50.0 %\n",
      "4 -> 50.0 %\n",
      "5 -> 50.0 %\n",
      "This guarantees an average award of 1.9 per 100 auctions\n"
     ]
    }
   ],
   "source": [
    "print('The best estimated strategy is:')\n",
    "for i in range(n_states):\n",
    "    print(states[i], '->', actions[np.argmax(Q, axis=1)[i]]*100, '%')\n",
    "print('This guarantees an average award of', round(score/100,1), 'per 100 auctions')"
   ]
  }
 ],
 "metadata": {
  "kernelspec": {
   "display_name": "Python [default]",
   "language": "python",
   "name": "python3"
  },
  "language_info": {
   "codemirror_mode": {
    "name": "ipython",
    "version": 3
   },
   "file_extension": ".py",
   "mimetype": "text/x-python",
   "name": "python",
   "nbconvert_exporter": "python",
   "pygments_lexer": "ipython3",
   "version": "3.6.2"
  },
  "varInspector": {
   "cols": {
    "lenName": 16,
    "lenType": 16,
    "lenVar": 40
   },
   "kernels_config": {
    "python": {
     "delete_cmd_postfix": "",
     "delete_cmd_prefix": "del ",
     "library": "var_list.py",
     "varRefreshCmd": "print(var_dic_list())"
    },
    "r": {
     "delete_cmd_postfix": ") ",
     "delete_cmd_prefix": "rm(",
     "library": "var_list.r",
     "varRefreshCmd": "cat(var_dic_list()) "
    }
   },
   "oldHeight": 280.4,
   "position": {
    "height": "40px",
    "left": "1075px",
    "right": "129px",
    "top": "127px",
    "width": "332px"
   },
   "types_to_exclude": [
    "module",
    "function",
    "builtin_function_or_method",
    "instance",
    "_Feature"
   ],
   "varInspector_section_display": "none",
   "window_display": true
  }
 },
 "nbformat": 4,
 "nbformat_minor": 2
}
